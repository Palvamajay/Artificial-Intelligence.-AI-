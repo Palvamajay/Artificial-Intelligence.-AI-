{
  "nbformat": 4,
  "nbformat_minor": 0,
  "metadata": {
    "colab": {
      "provenance": []
    },
    "kernelspec": {
      "name": "python3",
      "display_name": "Python 3"
    },
    "language_info": {
      "name": "python"
    }
  },
  "cells": [
    {
      "cell_type": "code",
      "source": [
        "import numpy as np"
      ],
      "metadata": {
        "id": "2gzjAm4UpzTE"
      },
      "execution_count": 35,
      "outputs": []
    },
    {
      "cell_type": "code",
      "source": [
        "# 1. Input data (4 samples, 2 features each)\n",
        "X = np.array([[0, 0],\n",
        "              [0, 1],\n",
        "              [1, 0],\n",
        "              [1, 1]])"
      ],
      "metadata": {
        "id": "v5mmwbqZp1Ut"
      },
      "execution_count": 36,
      "outputs": []
    },
    {
      "cell_type": "code",
      "source": [
        "# 2. Initialize weights and biases (random for now)\n",
        "np.random.seed(1)\n",
        "weights_input_hidden = np.random.rand(2, 2)   # 2 inputs → 2 hidden neurons\n",
        "bias_hidden = np.random.rand(1, 2)"
      ],
      "metadata": {
        "id": "oVre_q4Rp3Ib"
      },
      "execution_count": 37,
      "outputs": []
    },
    {
      "cell_type": "code",
      "source": [
        "weights_hidden_output = np.random.rand(2, 1)  # 2 hidden → 1 output\n",
        "bias_output = np.random.rand(1, 1)"
      ],
      "metadata": {
        "id": "ni5q4DoWp5um"
      },
      "execution_count": 38,
      "outputs": []
    },
    {
      "cell_type": "code",
      "source": [
        "# 3. Activation function (Sigmoid)\n",
        "def sigmoid(x):\n",
        "    return 1 / (1 + np.exp(-x))"
      ],
      "metadata": {
        "id": "dP4zQfQSp8LA"
      },
      "execution_count": 39,
      "outputs": []
    },
    {
      "cell_type": "code",
      "source": [
        "# 4. Forward pass\n",
        "# Hidden layer\n",
        "hidden_input = np.dot(X, weights_input_hidden) + bias_hidden\n",
        "hidden_output = sigmoid(hidden_input)"
      ],
      "metadata": {
        "id": "vPqVFXoCp-Hn"
      },
      "execution_count": 40,
      "outputs": []
    },
    {
      "cell_type": "code",
      "source": [
        "# Output layer\n",
        "final_input = np.dot(hidden_output, weights_hidden_output) + bias_output\n",
        "final_output = sigmoid(final_input)"
      ],
      "metadata": {
        "id": "xBM35YA8qAQt"
      },
      "execution_count": 41,
      "outputs": []
    },
    {
      "cell_type": "code",
      "source": [
        "# 5. Print outputs\n",
        "print(\"Final Output (Predictions):\")\n",
        "print(final_output)"
      ],
      "metadata": {
        "colab": {
          "base_uri": "https://localhost:8080/"
        },
        "id": "nyrE7D14qWi_",
        "outputId": "9d302ca2-f203-41cb-b37c-c4a91050685c"
      },
      "execution_count": 42,
      "outputs": [
        {
          "output_type": "stream",
          "name": "stdout",
          "text": [
            "Final Output (Predictions):\n",
            "[[0.66317399]\n",
            " [0.66888904]\n",
            " [0.68023193]\n",
            " [0.68475449]]\n"
          ]
        }
      ]
    }
  ]
}